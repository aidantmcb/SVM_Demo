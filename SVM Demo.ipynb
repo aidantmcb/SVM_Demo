{
 "cells": [
  {
   "cell_type": "code",
   "execution_count": 1,
   "id": "f2e08464",
   "metadata": {},
   "outputs": [],
   "source": [
    "import numpy as np\n",
    "import matplotlib.pyplot as plt\n",
    "\n",
    "### scikit-learn's SVM implementation: SVC ###\n",
    "from sklearn.svm import SVC "
   ]
  },
  {
   "cell_type": "markdown",
   "id": "3e3e4ab7",
   "metadata": {},
   "source": [
    "## Create classes of clustered points\n",
    "Data needs to be of form: \\\n",
    "`X`: a variable containing the measurable parameters for each point; has shape (n_points, n_classes) \\\n",
    "`y`: a variable containing the class for each data point (think: the auxillary axis of a scatter plot);\n",
    "    has shape (n_points)"
   ]
  },
  {
   "cell_type": "code",
   "execution_count": 28,
   "id": "2bbfaaa0",
   "metadata": {},
   "outputs": [
    {
     "name": "stdout",
     "output_type": "stream",
     "text": [
      "X shape: (20, 2)\n",
      "y shape: (20,)\n"
     ]
    },
    {
     "data": {
      "image/png": "[encoded data removed]",
      "text/plain": [
       "<Figure size 432x288 with 1 Axes>"
      ]
     },
     "metadata": {
      "needs_background": "light"
     },
     "output_type": "display_data"
    }
   ],
   "source": [
    "### Generate example dataset###\n",
    "np.random.seed(1)\n",
    "N1 = 10\n",
    "N2 = 10\n",
    "\n",
    "mu1 = np.array([1.0, 1.0])\n",
    "mu2 = np.array([2.0, 2.0])\n",
    "\n",
    "cov1 = np.array([[1, -0.5], \n",
    "                 [-0.5, 1]])\n",
    "cov2 = cov1\n",
    "\n",
    "X = np.vstack([np.random.multivariate_normal(mu1, cov1, N1),\n",
    "             np.random.multivariate_normal(mu2, cov2, N2)])\n",
    "y = np.hstack([np.zeros(N1), np.ones(N2)])\n",
    "\n",
    "print('X shape:', X.shape)\n",
    "print('y shape:', y.shape)\n",
    "\n",
    "plt.scatter(X[:,0], X[:,1], c = y) # plots X as axes, with y as color \n",
    "plt.show()"
   ]
  },
  {
   "cell_type": "markdown",
   "id": "6e386c7b",
   "metadata": {},
   "source": [
    "## Fit SVM:\n",
    "We'll teach `sklearn.svm`'s SVC (C-Support Vector Classification) to classify our data. \n",
    "\n",
    "The `SVC` class can be initialized by name, and then fit to the data using its built-in `fit()` function."
   ]
  },
  {
   "cell_type": "code",
   "execution_count": 27,
   "id": "98e57891",
   "metadata": {},
   "outputs": [
    {
     "data": {
      "text/plain": [
       "SVC(kernel='linear')"
      ]
     },
     "execution_count": 27,
     "metadata": {},
     "output_type": "execute_result"
    }
   ],
   "source": [
    "svm = SVC(kernel = 'linear') # creates a new SVC model \n",
    "svm.fit(X, y) # fit to generated data"
   ]
  },
  {
   "cell_type": "markdown",
   "id": "be1c33cf",
   "metadata": {},
   "source": [
    "Once fit, we can access the model parameters\n",
    "+ `svm.support_vectors_`: gives the 'support vectors, the nearest data points to the hyperplane\n",
    "+ `svm.support_`: gives indices of the suppport vectors\n",
    "+ `svm.coef_`\n",
    "+ `svm.intercept_`"
   ]
  },
  {
   "cell_type": "code",
   "execution_count": 10,
   "id": "7d7d9aa5",
   "metadata": {},
   "outputs": [],
   "source": [
    "xx = np.linspace(-5, 5)\n",
    "w = svm.coef_[0]\n",
    "m = - w[0] / w[1]\n",
    "b = - svm.intercept_[0] / w[1]\n",
    "yy = m * xx + b"
   ]
  },
  {
   "cell_type": "code",
   "execution_count": 26,
   "id": "e32ec85c",
   "metadata": {},
   "outputs": [
    {
     "data": {
      "image/png": "[encoded data removed]",
      "text/plain": [
       "<Figure size 432x288 with 1 Axes>"
      ]
     },
     "metadata": {
      "needs_background": "light"
     },
     "output_type": "display_data"
    }
   ],
   "source": [
    "plt.scatter(X[:,0], X[:,1], c = y)\n",
    "plt.plot(X[:,0][svm.support_], X[:,1][svm.support_], lw = 0,marker = 'o', fillstyle = 'none', c = 'k')\n",
    "plt.plot(xx, yy)\n",
    "plt.show()"
   ]
  },
  {
   "cell_type": "code",
   "execution_count": null,
   "id": "4b349d40",
   "metadata": {},
   "outputs": [],
   "source": []
  }
 ],
 "metadata": {
  "kernelspec": {
   "display_name": "Python 3.9.7 64-bit",
   "language": "python",
   "name": "python397jvsc74a57bd0aee8b7b246df8f9039afb4144a1f6fd8d2ca17a180786b69acc140d282b71a49"
  },
  "language_info": {
   "codemirror_mode": {
    "name": "ipython",
    "version": 3
   },
   "file_extension": ".py",
   "mimetype": "text/x-python",
   "name": "python",
   "nbconvert_exporter": "python",
   "pygments_lexer": "ipython3",
   "version": "3.9.7"
  }
 },
 "nbformat": 4,
 "nbformat_minor": 5
}
